{
 "cells": [
  {
   "cell_type": "code",
   "execution_count": 1,
   "id": "b3aa60ab",
   "metadata": {},
   "outputs": [],
   "source": [
    "import os\n",
    "import zipfile\n",
    "import pandas as pd\n",
    "\n",
    "os.getcwd()\n",
    "carpeta = \"files/input\"\n",
    "dataframes = []"
   ]
  },
  {
   "cell_type": "code",
   "execution_count": 2,
   "id": "be65df5b",
   "metadata": {},
   "outputs": [
    {
     "name": "stdout",
     "output_type": "stream",
     "text": [
      "   Unnamed: 0  client_id  age        job  marital    education credit_default  \\\n",
      "0           0          0   56  housemaid  married     basic.4y             no   \n",
      "1           1          1   57   services  married  high.school        unknown   \n",
      "2           2          2   37   services  married  high.school             no   \n",
      "3           3          3   40     admin.  married     basic.6y             no   \n",
      "4           4          4   56   services  married  high.school             no   \n",
      "\n",
      "  mortgage month  day  contact_duration  number_contacts  \\\n",
      "0       no   may   13               261                1   \n",
      "1       no   may   19               149                1   \n",
      "2      yes   may   23               226                1   \n",
      "3       no   may   27               151                1   \n",
      "4       no   may    3               307                1   \n",
      "\n",
      "   previous_campaign_contacts previous_outcome  cons_price_idx  \\\n",
      "0                           0      nonexistent          93.994   \n",
      "1                           0      nonexistent          93.994   \n",
      "2                           0      nonexistent          93.994   \n",
      "3                           0      nonexistent          93.994   \n",
      "4                           0      nonexistent          93.994   \n",
      "\n",
      "   euribor_three_months campaign_outcome                         origen_zip  \n",
      "0                 4.857               no  bank-marketing-campaing-0.csv.zip  \n",
      "1                 4.857               no  bank-marketing-campaing-0.csv.zip  \n",
      "2                 4.857               no  bank-marketing-campaing-0.csv.zip  \n",
      "3                 4.857               no  bank-marketing-campaing-0.csv.zip  \n",
      "4                 4.857               no  bank-marketing-campaing-0.csv.zip  \n"
     ]
    }
   ],
   "source": [
    "for archivo in os.listdir(carpeta):\n",
    "    if archivo.endswith(\".zip\"):\n",
    "        ruta_zip = os.path.join(carpeta, archivo)\n",
    "        \n",
    "        # Abrir el ZIP y leer cada CSV dentro\n",
    "        with zipfile.ZipFile(ruta_zip) as z:\n",
    "            for nombre in z.namelist():\n",
    "                if nombre.endswith(\".csv\"):\n",
    "                    with z.open(nombre) as f:\n",
    "                        df = pd.read_csv(f)\n",
    "                        df[\"origen_zip\"] = archivo  # fuente - origen del df\n",
    "                        dataframes.append(df)\n",
    "\n",
    "# Combinar todos los DataFrames en uno solo\n",
    "df_final = pd.concat(dataframes, ignore_index=False)\n",
    "print(df_final.head())"
   ]
  },
  {
   "cell_type": "code",
   "execution_count": null,
   "id": "3c088c71",
   "metadata": {},
   "outputs": [],
   "source": [
    "df_final[\"job\"] = df_final[\"job\"].str.replace(\".\", \"\", regex=False)\n",
    "df_final[\"job\"] = df_final[\"job\"].str.replace(\"-\", \"_\", regex=False)\n",
    "df_final[\"education\"] = df_final[\"education\"].str.replace(\".\", \"_\", regex=False)\n",
    "df_final[\"education\"] = df_final[\"education\"].replace(\"unknown\", pd.NA)\n",
    "df_final[\"education\"] = df_final[\"education\"].replace(\"unknown\", pd.NA)\n",
    "df_final[\"credit_default\"] = df_final[\"credit_default\"].apply(lambda x: 1 if x == \"yes\" else 0)\n",
    "df_final[\"mortgage\"] = df_final[\"mortgage\"].apply(lambda x: 1 if x == \"yes\" else 0)\n",
    "df_final[\"previous_outcome\"] = df_final[\"previous_outcome\"].apply(lambda x: 1 if x == \"success\" else 0)\n",
    "df_final[\"campaign_outcome\"] = df_final[\"campaign_outcome\"].apply(lambda x: 1 if x == \"yes\" else 0)\n",
    "df_final[\"year\"] = 2022\n",
    "month_dict = {\"jan\": 1, \"feb\": 2, \"mar\": 3, \"apr\": 4, \"may\": 5, \"jun\": 6, \"jul\": 7, \"aug\": 8, \"sep\": 9, \"oct\": 10, \"nov\": 11, \"dec\": 12}\n",
    "df_final[\"month\"] = df_final[\"month\"].str.lower().map(month_dict)\n",
    "df_final[\"last_contact_date\"] = pd.to_datetime(df_final[[\"year\", \"month\", \"day\"]]).dt.strftime(\"%Y-%m-%d\")"
   ]
  },
  {
   "cell_type": "code",
   "execution_count": null,
   "id": "8c98614e",
   "metadata": {},
   "outputs": [],
   "source": [
    "# Creación de los 3 df\n",
    "df_client = df_final[[\"client_id\", \"age\", \"job\", \"marital\", \"education\", \"credit_default\", \"mortgage\"]]\n",
    "df_campaign = df_final[[\"client_id\", \"number_contacts\", \"contact_duration\", \"previous_campaign_contacts\", \"previous_outcome\", \"campaign_outcome\", \"last_contact_date\"]]\n",
    "df_economics = df_final[[\"client_id\", \"cons_price_idx\", \"euribor_three_months\"]]"
   ]
  },
  {
   "cell_type": "code",
   "execution_count": null,
   "id": "1e7915c3",
   "metadata": {},
   "outputs": [],
   "source": [
    "#Guardar los 3 df\n",
    "\n",
    "ruta_salida = \"files/output\"\n",
    "\n",
    "df_client.to_csv(os.path.join(ruta_salida,\"client.csv\"), index=False)\n",
    "df_campaign.to_csv(os.path.join(ruta_salida,\"campaign.csv\"), index=False)\n",
    "df_economics.to_csv(os.path.join(ruta_salida,\"economics.csv\"), index=False)"
   ]
  },
  {
   "cell_type": "code",
   "execution_count": null,
   "id": "b533f7a2",
   "metadata": {},
   "outputs": [],
   "source": [
    "df_client"
   ]
  },
  {
   "cell_type": "code",
   "execution_count": 7,
   "id": "c8c41861",
   "metadata": {},
   "outputs": [
    {
     "data": {
      "text/plain": [
       "Index(['Unnamed: 0', 'client_id', 'age', 'job', 'marital', 'education',\n",
       "       'credit_default', 'mortgage', 'month', 'day', 'contact_duration',\n",
       "       'number_contacts', 'previous_campaign_contacts', 'previous_outcome',\n",
       "       'cons_price_idx', 'euribor_three_months', 'campaign_outcome',\n",
       "       'origen_zip', 'year', 'last_contact_day'],\n",
       "      dtype='object')"
      ]
     },
     "execution_count": 7,
     "metadata": {},
     "output_type": "execute_result"
    }
   ],
   "source": [
    "df_final.columns"
   ]
  },
  {
   "cell_type": "code",
   "execution_count": null,
   "id": "0c1bf3fa",
   "metadata": {},
   "outputs": [],
   "source": [
    "df_final[\"month\"].unique()"
   ]
  },
  {
   "cell_type": "code",
   "execution_count": null,
   "id": "426a20c4",
   "metadata": {},
   "outputs": [],
   "source": [
    "df_final[\"last_contact_day\"]"
   ]
  },
  {
   "cell_type": "code",
   "execution_count": null,
   "id": "e83f7573",
   "metadata": {},
   "outputs": [],
   "source": [
    "df_final"
   ]
  }
 ],
 "metadata": {
  "kernelspec": {
   "display_name": ".venv (3.13.2)",
   "language": "python",
   "name": "python3"
  },
  "language_info": {
   "codemirror_mode": {
    "name": "ipython",
    "version": 3
   },
   "file_extension": ".py",
   "mimetype": "text/x-python",
   "name": "python",
   "nbconvert_exporter": "python",
   "pygments_lexer": "ipython3",
   "version": "3.13.2"
  }
 },
 "nbformat": 4,
 "nbformat_minor": 5
}
